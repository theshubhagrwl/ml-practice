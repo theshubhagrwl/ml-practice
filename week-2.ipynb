{
 "cells": [
  {
   "cell_type": "code",
   "execution_count": 1,
   "metadata": {},
   "outputs": [],
   "source": [
    "import numpy as np\n",
    "import pandas as pd\n",
    "import matplotlib.pyplot as plt"
   ]
  },
  {
   "cell_type": "code",
   "execution_count": 26,
   "metadata": {},
   "outputs": [],
   "source": [
    "data = pd.read_csv(\"ex1data2.txt\") #importing data\n",
    "#storing the first 2 columns in x and 3rd in y\n",
    "x = data.iloc[:,0:2]\n",
    "y = data.iloc[:,2]\n",
    "m = len(y)"
   ]
  },
  {
   "cell_type": "code",
   "execution_count": 27,
   "metadata": {},
   "outputs": [],
   "source": [
    "#feature normalization\n",
    "x = (x - np.mean(x))/np.std(x)"
   ]
  },
  {
   "cell_type": "code",
   "execution_count": 28,
   "metadata": {},
   "outputs": [],
   "source": [
    "#defining variables for our costFunction and GD\n",
    "ones = np.ones((m,1))\n",
    "x = np.hstack((ones,x))\n",
    "alpha = 0.01\n",
    "num_iters = 400\n",
    "theta = np.zeros((3,1))\n",
    "y = y[:,np.newaxis]"
   ]
  },
  {
   "cell_type": "code",
   "execution_count": 29,
   "metadata": {},
   "outputs": [
    {
     "name": "stdout",
     "output_type": "stream",
     "text": [
      "65279190347.902176\n"
     ]
    }
   ],
   "source": [
    "def computeCost(x,y,theta):\n",
    "    temp = np.dot(x,theta) - y\n",
    "    return np.sum(np.power(temp,2))/(2*m)\n",
    "J = computeCost(x,y,theta)\n",
    "print(J)"
   ]
  },
  {
   "cell_type": "code",
   "execution_count": 30,
   "metadata": {},
   "outputs": [
    {
     "name": "stdout",
     "output_type": "stream",
     "text": [
      "[[333032.07465084]\n",
      " [100130.7408761 ]\n",
      " [  3699.66611303]]\n"
     ]
    }
   ],
   "source": [
    "def gradientDescent(x,y,theta,alpha,iterations):\n",
    "    m = len(y)\n",
    "    for _ in range(iterations):\n",
    "        temp = np.dot(x,theta) - y\n",
    "        temp = np.dot(x.T,temp)\n",
    "        theta = theta - (alpha/m) * temp\n",
    "    return theta\n",
    "theta = gradientDescent(x,y,theta,alpha,num_iters)\n",
    "print(theta)"
   ]
  },
  {
   "cell_type": "code",
   "execution_count": 32,
   "metadata": {},
   "outputs": [
    {
     "name": "stdout",
     "output_type": "stream",
     "text": [
      "2129135983.2744644\n"
     ]
    }
   ],
   "source": [
    "J = computeCost(x,y,theta)\n",
    "print(J)"
   ]
  },
  {
   "cell_type": "code",
   "execution_count": 43,
   "metadata": {},
   "outputs": [
    {
     "data": {
      "image/png": "[encoded data removed]",
      "text/plain": [
       "<Figure size 432x288 with 1 Axes>"
      ]
     },
     "metadata": {
      "needs_background": "light"
     },
     "output_type": "display_data"
    }
   ],
   "source": [
    "#making the plot and intercept\n",
    "plt.scatter(x[:,1],y)\n",
    "plt.ylabel(\"Price of house\")\n",
    "plt.plot(x[:,1],np.dot(x,theta),c=\"r\")\n",
    "plt.show()"
   ]
  },
  {
   "cell_type": "code",
   "execution_count": null,
   "metadata": {},
   "outputs": [],
   "source": []
  }
 ],
 "metadata": {
  "kernelspec": {
   "display_name": "Python 3",
   "language": "python",
   "name": "python3"
  },
  "language_info": {
   "codemirror_mode": {
    "name": "ipython",
    "version": 3
   },
   "file_extension": ".py",
   "mimetype": "text/x-python",
   "name": "python",
   "nbconvert_exporter": "python",
   "pygments_lexer": "ipython3",
   "version": "3.7.4"
  }
 },
 "nbformat": 4,
 "nbformat_minor": 2
}
